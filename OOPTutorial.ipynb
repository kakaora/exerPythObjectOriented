{
 "cells": [
  {
   "cell_type": "code",
   "execution_count": 40,
   "source": [
    "# Python Object-Oriented Programming\n",
    "# VIDEO 1\n",
    "\n",
    "print('Video 1 Start')\n",
    "\n",
    "\n",
    "class Employee:\n",
    "    pass    \n",
    "\n",
    "emp_1 = Employee()\n",
    "emp_2 = Employee()\n",
    "\n",
    "print(emp_1)\n",
    "print(emp_2)\n",
    "\n",
    "emp_1.first = 'Corey'\n",
    "emp_1.last = 'Schafer'\n",
    "emp_1.email = 'Corey.Schafer@company.com'\n",
    "emp_1.pay = 50000\n",
    "\n",
    "emp_2.first = 'Test'\n",
    "emp_2.last = 'User'\n",
    "emp_2.email = 'Test.User@company.com'\n",
    "emp_2.pay = 60000\n",
    "\n",
    "print(emp_1.email)\n",
    "print(emp_2.email)"
   ],
   "outputs": [
    {
     "output_type": "stream",
     "name": "stdout",
     "text": [
      "Video 1 Start\n",
      "<__main__.Employee object at 0x7ff0902bc730>\n",
      "<__main__.Employee object at 0x7ff0902bca60>\n",
      "Corey.Schafer@company.com\n",
      "Test.User@company.com\n"
     ]
    }
   ],
   "metadata": {}
  },
  {
   "cell_type": "code",
   "execution_count": 41,
   "source": [
    "class Employee:  \n",
    "     def __init__(self, first, last, pay):\n",
    "        self.first = first\n",
    "        self.last = last\n",
    "        self.pay = pay\n",
    "        self.email = first + '.' + last + '@company.com'\n",
    "\n",
    "emp_1 = Employee('Corey','Schafer', 50000)\n",
    "emp_2 = Employee('Test', 'User', 60000)\n",
    "\n",
    "print(emp_1.email)\n",
    "print(emp_2.email)\n",
    "\n",
    "print ('{} {}'.format(emp_1.first, emp_1.last))"
   ],
   "outputs": [
    {
     "output_type": "stream",
     "name": "stdout",
     "text": [
      "Corey.Schafer@company.com\n",
      "Test.User@company.com\n",
      "Corey Schafer\n"
     ]
    }
   ],
   "metadata": {}
  },
  {
   "cell_type": "code",
   "execution_count": 42,
   "source": [
    "class Employee:  \n",
    "     def __init__(self, first, last, pay):\n",
    "        self.first = first\n",
    "        self.last = last\n",
    "        self.pay = pay\n",
    "        self.email = first + '.' + last + '@company.com'\n",
    "     \n",
    "     def fullname(self):\n",
    "          return '{} {}'.format(self.first, self.last)\n",
    "\n",
    "emp_1 = Employee('Corey','Schafer', 50000)\n",
    "emp_2 = Employee('Test', 'User', 60000)\n",
    "\n",
    "print(emp_1.email)\n",
    "print(emp_2.email)\n",
    "\n",
    "print(emp_1.fullname())\n",
    "print(emp_2.fullname())\n",
    "\n",
    "emp_1.fullname()\n",
    "print(Employee.fullname(emp_1))\n",
    "\n",
    "print ('{} {}'.format(emp_1.first, emp_1.last))\n",
    "\n",
    "print ('End of Video 1')"
   ],
   "outputs": [
    {
     "output_type": "stream",
     "name": "stdout",
     "text": [
      "Corey.Schafer@company.com\n",
      "Test.User@company.com\n",
      "Corey Schafer\n",
      "Test User\n",
      "Corey Schafer\n",
      "Corey Schafer\n",
      "End of Video 1\n"
     ]
    }
   ],
   "metadata": {}
  },
  {
   "cell_type": "code",
   "execution_count": 43,
   "source": [
    "print ('Class Variables')\n",
    "\n",
    "class Employee:  \n",
    "     def __init__(self, first, last, pay):\n",
    "        self.first = first\n",
    "        self.last = last\n",
    "        self.pay = pay\n",
    "        self.email = first + '.' + last + '@company.com'\n",
    "     \n",
    "     def fullname(self):\n",
    "          return '{} {}'.format(self.first, self.last)\n",
    "    \n",
    "     def apply_raise(self):\n",
    "        self.pay = int(self.pay * 1.04)\n",
    "\n",
    "emp_1 = Employee('Corey','Schafer', 50000)\n",
    "emp_2 = Employee('Test', 'User', 60000)\n",
    "\n",
    "print(emp_1.pay)\n",
    "emp_1.apply_raise()\n",
    "print(emp_1.pay)"
   ],
   "outputs": [
    {
     "output_type": "stream",
     "name": "stdout",
     "text": [
      "Class Variables\n",
      "50000\n",
      "52000\n"
     ]
    }
   ],
   "metadata": {}
  },
  {
   "cell_type": "code",
   "execution_count": 44,
   "source": [
    "print ('Video 2 - Class Variables')\n",
    "\n",
    "class Employee:  \n",
    "     num_of_emps = 0\n",
    "     raise_amount = 1.04\n",
    "\n",
    "     def __init__(self, first, last, pay):\n",
    "        self.first = first\n",
    "        self.last = last\n",
    "        self.pay = pay\n",
    "        self.email = first + '.' + last + '@company.com'\n",
    "\n",
    "        Employee.num_of_emps += 1\n",
    "     \n",
    "     def fullname(self):\n",
    "          return '{} {}'.format(self.first, self.last)\n",
    "    \n",
    "     def apply_raise(self):\n",
    "        self.pay = int(self.pay * self.raise_amount)\n",
    "\n",
    "emp_1 = Employee('Corey','Schafer', 50000)\n",
    "emp_2 = Employee('Test', 'User', 60000)\n",
    "\n",
    "print(emp_1.pay)\n",
    "emp_1.apply_raise()\n",
    "print(emp_1.pay)\n",
    "\n",
    "\n"
   ],
   "outputs": [
    {
     "output_type": "stream",
     "name": "stdout",
     "text": [
      "Video 2 - Class Variables\n",
      "50000\n",
      "52000\n"
     ]
    }
   ],
   "metadata": {}
  },
  {
   "cell_type": "code",
   "execution_count": 45,
   "source": [
    "print(Employee.raise_amount)\n",
    "print(emp_1.raise_amount)\n",
    "print(emp_2.raise_amount)\n",
    "\n",
    "print (emp_1.__dict__)\n",
    "print (Employee.__dict__)\n",
    "\n",
    "Employee.raise_amount = 1.05\n",
    "\n",
    "print(Employee.raise_amount)\n",
    "print(emp_1.raise_amount)\n",
    "print(emp_2.raise_amount)\n",
    "\n",
    "emp_1.raise_amount = 1.04\n",
    "\n",
    "print(emp_1.__dict__)\n",
    "\n",
    "print(Employee.raise_amount)\n",
    "print(emp_1.raise_amount)\n",
    "print(emp_2.raise_amount)\n",
    "\n"
   ],
   "outputs": [
    {
     "output_type": "stream",
     "name": "stdout",
     "text": [
      "1.04\n",
      "1.04\n",
      "1.04\n",
      "{'first': 'Corey', 'last': 'Schafer', 'pay': 52000, 'email': 'Corey.Schafer@company.com'}\n",
      "{'__module__': '__main__', 'num_of_emps': 2, 'raise_amount': 1.04, '__init__': <function Employee.__init__ at 0x7ff090ae24c0>, 'fullname': <function Employee.fullname at 0x7ff090ae2940>, 'apply_raise': <function Employee.apply_raise at 0x7ff0a120ab80>, '__dict__': <attribute '__dict__' of 'Employee' objects>, '__weakref__': <attribute '__weakref__' of 'Employee' objects>, '__doc__': None}\n",
      "1.05\n",
      "1.05\n",
      "1.05\n",
      "{'first': 'Corey', 'last': 'Schafer', 'pay': 52000, 'email': 'Corey.Schafer@company.com', 'raise_amount': 1.04}\n",
      "1.05\n",
      "1.04\n",
      "1.05\n"
     ]
    }
   ],
   "metadata": {}
  },
  {
   "cell_type": "code",
   "execution_count": 46,
   "source": [
    "print(Employee.num_of_emps)\n",
    "\n",
    "print ('End of Video 2')"
   ],
   "outputs": [
    {
     "output_type": "stream",
     "name": "stdout",
     "text": [
      "2\n",
      "End of Video 2\n"
     ]
    }
   ],
   "metadata": {}
  },
  {
   "cell_type": "code",
   "execution_count": 47,
   "source": [
    "print('Start of Video 3 - Class Methods and Static Methods')\n",
    "\n",
    "class Employee: \n",
    "\n",
    "     num_of_emps = 0\n",
    "     raise_amt = 1.04\n",
    "\n",
    "     def __init__(self, first, last, pay):\n",
    "        self.first = first\n",
    "        self.last = last\n",
    "        self.pay = pay\n",
    "        self.email = first + '.' + last + '@company.com'\n",
    "\n",
    "        Employee.num_of_emps += 1\n",
    "     \n",
    "     def fullname(self):\n",
    "          return '{} {}'.format(self.first, self.last)\n",
    "    \n",
    "     def apply_raise(self):\n",
    "        self.pay = int(self.pay * self.raise_amount)\n",
    "\n",
    "     @classmethod\n",
    "     def set_raise_amt(cls, amount):\n",
    "         cls.raise_amount = amount\n",
    "\n",
    "\n",
    "emp_1 = Employee('Corey','Schafer', 50000)\n",
    "emp_2 = Employee('Test', 'User', 60000)\n",
    "\n",
    "Employee.set_raise_amt(1.05)\n",
    "\n",
    "print(Employee.raise_amt)\n",
    "print(emp_1.raise_amt)\n",
    "print(emp_2.raise_amt)\n",
    "\n",
    "\n"
   ],
   "outputs": [
    {
     "output_type": "stream",
     "name": "stdout",
     "text": [
      "Start of Video 3 - Class Methods and Static Methods\n",
      "1.04\n",
      "1.04\n",
      "1.04\n"
     ]
    }
   ],
   "metadata": {}
  },
  {
   "cell_type": "code",
   "execution_count": 48,
   "source": [
    "@classmethod\n",
    "def from_string(cls, emp_str):\n",
    "    first, last, pay = emp_str.split('-')\n",
    "    return cls(first, last, pay)\n",
    "\n",
    "emp_str_1 = 'John-Doe-70000'\n",
    "emp_str_2 = 'Steve-Smith-30000'\n",
    "emp_str_3 = 'Jane-Doe-90000'\n",
    "\n",
    "first, last, pay = emp_str_1.split('-')\n",
    "#new_emp_1 = Employee (first, last, pay)\n",
    "\n",
    "print (new_emp_1.email)\n",
    "print(new_emp_1.pay)\n"
   ],
   "outputs": [
    {
     "output_type": "error",
     "ename": "NameError",
     "evalue": "name 'new_emp_1' is not defined",
     "traceback": [
      "\u001b[0;31m---------------------------------------------------------------------------\u001b[0m",
      "\u001b[0;31mNameError\u001b[0m                                 Traceback (most recent call last)",
      "\u001b[0;32m<ipython-input-48-e2bb765e8277>\u001b[0m in \u001b[0;36m<module>\u001b[0;34m\u001b[0m\n\u001b[1;32m     11\u001b[0m \u001b[0;31m#new_emp_1 = Employee (first, last, pay)\u001b[0m\u001b[0;34m\u001b[0m\u001b[0;34m\u001b[0m\u001b[0;34m\u001b[0m\u001b[0m\n\u001b[1;32m     12\u001b[0m \u001b[0;34m\u001b[0m\u001b[0m\n\u001b[0;32m---> 13\u001b[0;31m \u001b[0mprint\u001b[0m \u001b[0;34m(\u001b[0m\u001b[0mnew_emp_1\u001b[0m\u001b[0;34m.\u001b[0m\u001b[0memail\u001b[0m\u001b[0;34m)\u001b[0m\u001b[0;34m\u001b[0m\u001b[0;34m\u001b[0m\u001b[0m\n\u001b[0m\u001b[1;32m     14\u001b[0m \u001b[0mprint\u001b[0m\u001b[0;34m(\u001b[0m\u001b[0mnew_emp_1\u001b[0m\u001b[0;34m.\u001b[0m\u001b[0mpay\u001b[0m\u001b[0;34m)\u001b[0m\u001b[0;34m\u001b[0m\u001b[0;34m\u001b[0m\u001b[0m\n",
      "\u001b[0;31mNameError\u001b[0m: name 'new_emp_1' is not defined"
     ]
    }
   ],
   "metadata": {}
  },
  {
   "cell_type": "code",
   "execution_count": null,
   "source": [
    "@classmethod\n",
    "def fromtimestamp(cls,t):\n",
    "    \"Construct a date from a POSIX timestamp (like time.time()).\"\n",
    "    y, m, d, hh, mm, ss, weekday, jday, dst = _time.localtime(t)\n",
    "    return cls (y,m,d)\n",
    "@classmethod\n",
    "def today(cls):\n",
    "    \"Construct a date from time.time().\"\n",
    "    t = _time.time()\n",
    "    return cls.fromtimestamp(t)\n",
    "\n"
   ],
   "outputs": [],
   "metadata": {}
  },
  {
   "cell_type": "code",
   "execution_count": null,
   "source": [
    " class Employee: \n",
    "\n",
    "     num_of_emps = 0\n",
    "     raise_amt = 1.04\n",
    "\n",
    "     def __init__(self, first, last, pay):\n",
    "        self.first = first\n",
    "        self.last = last\n",
    "        self.pay = pay\n",
    "        self.email = first + '.' + last + '@company.com'\n",
    "\n",
    "        Employee.num_of_emps += 1\n",
    "     \n",
    "     def fullname(self):\n",
    "          return '{} {}'.format(self.first, self.last)\n",
    "    \n",
    "     def apply_raise(self):\n",
    "        self.pay = int(self.pay * self.raise_amount)\n",
    "     @classmethod\n",
    "     def set_raise_amt(cls, amount):\n",
    "            cls.raise_amount = amount\n",
    "\n",
    "     @classmethod\n",
    "     def from_string(cls, emp_str):\n",
    "                first, last, pay = emp_str.split('-')\n",
    "                return cls(first, last, pay)\n",
    "\n",
    "     @staticmethod\n",
    "     def is_workday(day):\n",
    "        if day.weekday() == 5 or day.weekday() == 6:\n",
    "            return False\n",
    "        return True\n",
    "\n",
    "emp_1 = Employee('Corey','Schafer', 50000)\n",
    "emp_2 = Employee('Test', 'User', 60000)\n",
    "\n",
    "import datetime\n",
    "my_date = datetime.date(2016, 7, 10)\n",
    "\n",
    "print(Employee.is_workday(my_date))\n",
    "\n",
    "my_date = datetime.date(2016, 7, 11)\n",
    "\n",
    "print(Employee.is_workday(my_date))\n",
    "\n",
    "print('End of Video 3')\n"
   ],
   "outputs": [
    {
     "output_type": "stream",
     "name": "stdout",
     "text": [
      "False\n",
      "True\n",
      "End of Video 3\n"
     ]
    }
   ],
   "metadata": {}
  },
  {
   "cell_type": "code",
   "execution_count": null,
   "source": [
    " class Employee: \n",
    "\n",
    "     num_of_emps = 0\n",
    "     raise_amt = 1.04\n",
    "\n",
    "     def __init__(self, first, last, pay):\n",
    "        self.first = first\n",
    "        self.last = last\n",
    "        self.pay = pay\n",
    "        self.email = first + '.' + last + '@company.com'\n",
    "\n",
    "        Employee.num_of_emps += 1\n",
    "     \n",
    "     def fullname(self):\n",
    "          return '{} {}'.format(self.first, self.last)\n",
    "    \n",
    "     def apply_raise(self):\n",
    "        self.pay = int(self.pay * self.raise_amount)\n",
    "     @classmethod\n",
    "     def set_raise_amt(cls, amount):\n",
    "            cls.raise_amount = amount\n",
    "\n",
    "     @classmethod\n",
    "     def from_string(cls, emp_str):\n",
    "                first, last, pay = emp_str.split('-')\n",
    "                return cls(first, last, pay)\n",
    "\n",
    "     @staticmethod\n",
    "     def is_workday(day):\n",
    "        if day.weekday() == 5 or day.weekday() == 6:\n",
    "            return False\n",
    "        return True\n",
    "\n",
    "emp_1 = Employee('Corey','Schafer', 50000)\n",
    "emp_2 = Employee('Test', 'User', 60000)\n",
    "\n",
    "import datetime\n",
    "my_date = datetime.date(2016, 7, 10)\n",
    "\n",
    "print(Employee.is_workday(my_date))\n",
    "\n",
    "my_date = datetime.date(2016, 7, 11)\n",
    "\n",
    "print(Employee.is_workday(my_date))\n",
    "\n",
    "print('End of Video 3')"
   ],
   "outputs": [
    {
     "output_type": "stream",
     "name": "stdout",
     "text": [
      "False\n",
      "True\n",
      "End of Video 3\n"
     ]
    }
   ],
   "metadata": {}
  },
  {
   "cell_type": "code",
   "execution_count": null,
   "source": [
    "print ('Start of Video 4')\n",
    "\n",
    "\n",
    "class Employee: \n",
    "\n",
    "     raise_amt = 1.04\n",
    "\n",
    "     def __init__(self, first, last, pay):\n",
    "        self.first = first\n",
    "        self.last = last\n",
    "        self.pay = pay\n",
    "        self.email = first + '.' + last + '@company.com'\n",
    "     \n",
    "     def fullname(self):\n",
    "          return '{} {}'.format(self.first, self.last)\n",
    "    \n",
    "     def apply_raise(self):\n",
    "        self.pay = int(self.pay * self.raise_amt)\n",
    "\n",
    "class Developer(Employee):\n",
    "   pass\n",
    "\n",
    "dev_1 = Employee('Corey','Schafer', 50000)\n",
    "dev_2 = Employee('Test', 'User', 60000)\n",
    "\n",
    "print (dev_1.email)\n",
    "print(dev_2.email)\n",
    "\n",
    "dev_1 = Developer('Corey','Schafer', 50000)\n",
    "dev_2 = Developer('Test', 'User', 60000)\n",
    "\n",
    "print (dev_1.email)\n",
    "print(dev_2.email)\n",
    "\n",
    "print(help(Developer))"
   ],
   "outputs": [
    {
     "output_type": "stream",
     "name": "stdout",
     "text": [
      "Start of Video 4\n",
      "Corey.Schafer@company.com\n",
      "Test.User@company.com\n",
      "Corey.Schafer@company.com\n",
      "Test.User@company.com\n",
      "Help on class Developer in module __main__:\n",
      "\n",
      "class Developer(Employee)\n",
      " |  Developer(first, last, pay)\n",
      " |  \n",
      " |  Method resolution order:\n",
      " |      Developer\n",
      " |      Employee\n",
      " |      builtins.object\n",
      " |  \n",
      " |  Methods inherited from Employee:\n",
      " |  \n",
      " |  __init__(self, first, last, pay)\n",
      " |      Initialize self.  See help(type(self)) for accurate signature.\n",
      " |  \n",
      " |  apply_raise(self)\n",
      " |  \n",
      " |  fullname(self)\n",
      " |  \n",
      " |  ----------------------------------------------------------------------\n",
      " |  Data descriptors inherited from Employee:\n",
      " |  \n",
      " |  __dict__\n",
      " |      dictionary for instance variables (if defined)\n",
      " |  \n",
      " |  __weakref__\n",
      " |      list of weak references to the object (if defined)\n",
      " |  \n",
      " |  ----------------------------------------------------------------------\n",
      " |  Data and other attributes inherited from Employee:\n",
      " |  \n",
      " |  raise_amt = 1.04\n",
      "\n",
      "None\n"
     ]
    }
   ],
   "metadata": {}
  },
  {
   "cell_type": "code",
   "execution_count": null,
   "source": [
    "class Developer(Employee):\n",
    "   raise_amt = 1.10\n",
    "\n",
    "dev_1 = Developer('Corey','Schafer', 50000)\n",
    "dev_2 = Developer('Test', 'User', 60000)\n",
    "\n",
    "print(dev_1.pay)\n",
    "dev_1.apply_raise()\n",
    "print(dev_1.pay)\n",
    "\n",
    "dev_1 = Employee('Corey','Schafer', 50000)\n",
    "\n",
    "print(dev_1.pay)\n",
    "dev_1.apply_raise()\n",
    "print(dev_1.pay)"
   ],
   "outputs": [
    {
     "output_type": "stream",
     "name": "stdout",
     "text": [
      "50000\n",
      "55000\n",
      "50000\n",
      "52000\n"
     ]
    }
   ],
   "metadata": {}
  },
  {
   "cell_type": "code",
   "execution_count": null,
   "source": [],
   "outputs": [],
   "metadata": {}
  },
  {
   "cell_type": "code",
   "execution_count": null,
   "source": [
    "class Developer(Employee):\n",
    "   raise_amt = 1.10\n",
    "\n",
    "   def __init__(self, first, last, pay, prog_lang):\n",
    "        super().__init__(first, last, pay)\n",
    "        #Below is good for single inheritance, but super is good for multiple inheritance\n",
    "        #Employee.__init__(self, first, last, pay)\n",
    "        self.prog_lang = prog_lang\n",
    "      \n",
    "dev_1 = Developer('Corey','Schafer', 50000, 'Python')\n",
    "dev_2 = Developer('Test', 'User', 60000, 'Java')\n",
    "\n",
    "print(dev_1.email)\n",
    "print(dev_1.prog_lang)"
   ],
   "outputs": [
    {
     "output_type": "stream",
     "name": "stdout",
     "text": [
      "Corey.Schafer@company.com\n",
      "Python\n"
     ]
    }
   ],
   "metadata": {}
  },
  {
   "cell_type": "markdown",
   "source": [],
   "metadata": {}
  },
  {
   "cell_type": "code",
   "execution_count": 51,
   "source": [
    "class Manager(Employee):\n",
    "    def __init__(self, first, last, pay, employees=None):\n",
    "        super().__init__(first, last, pay)\n",
    "        if employees is None:\n",
    "            self.employees = []\n",
    "        else:\n",
    "            self.employees = employees\n",
    "    \n",
    "    def add_emp(self, emp):\n",
    "        if emp not in self.employees:\n",
    "            self.employees.append(emp)\n",
    "    \n",
    "    def remove_emp(self, emp):\n",
    "        if emp in self.employees:\n",
    "            self.employees.remove(emp)\n",
    "    \n",
    "    def print_emps(self):\n",
    "        for emp in self.employees:\n",
    "            print('-->', emp.fullname())\n",
    "\n",
    "\n",
    "dev_1 = Developer('Corey','Schafer', 50000, 'Python')\n",
    "dev_2 = Developer('Test', 'User', 60000, 'Java')\n",
    "\n",
    "mgr_1 = Manager('Sue', 'Smith', 90000, [dev_1])\n",
    "\n",
    "mgr_1.add_emp(dev_2)\n",
    "\n",
    "print(mgr_1.email)\n",
    "\n",
    "mgr_1.print_emps()\n",
    "\n",
    "mgr_1.remove_emp(dev_1)\n",
    "\n",
    "print(mgr_1.email)\n",
    "mgr_1.print_emps()\n"
   ],
   "outputs": [
    {
     "output_type": "stream",
     "name": "stdout",
     "text": [
      "Sue.Smith@company.com\n",
      "--> Corey Schafer\n",
      "--> Test User\n",
      "Sue.Smith@company.com\n",
      "--> Test User\n"
     ]
    }
   ],
   "metadata": {}
  },
  {
   "cell_type": "code",
   "execution_count": 59,
   "source": [
    "class Manager(Employee):\n",
    "    def __init__(self, first, last, pay, employees=None):\n",
    "        super().__init__(first, last, pay)\n",
    "        if employees is None:\n",
    "            self.employees = []\n",
    "        else:\n",
    "            self.employees = employees\n",
    "    \n",
    "    def add_emp(self, emp):\n",
    "        if emp not in self.employees:\n",
    "            self.employees.append(emp)\n",
    "    \n",
    "    def remove_emp(self, emp):\n",
    "        if emp in self.employees:\n",
    "            self.employees.remove(emp)\n",
    "    \n",
    "    def print_emps(self):\n",
    "        for emp in self.employees:\n",
    "            print('-->', emp.fullname())\n",
    "\n",
    "\n",
    "dev_1 = Developer('Corey','Schafer', 50000, 'Python')\n",
    "dev_2 = Developer('Test', 'User', 60000, 'Java')\n",
    "\n",
    "mgr_1 = Manager('Sue', 'Smith', 90000, [dev_1])\n",
    "\n",
    "print(isinstance(mgr_1, Manager))\n",
    "\n",
    "print(isinstance(mgr_1, Employee))\n",
    "\n",
    "print(isinstance(mgr_1, Developer))\n",
    "\n",
    "print(issubclass(Developer, Employee))\n",
    "print(issubclass(Manager, Employee))\n",
    "print(issubclass(Manager, Developer))\n",
    "\n",
    "print ('End of Video 4')"
   ],
   "outputs": [
    {
     "output_type": "stream",
     "name": "stdout",
     "text": [
      "True\n",
      "True\n",
      "False\n",
      "False\n",
      "True\n",
      "False\n",
      "End of Video 4\n"
     ]
    }
   ],
   "metadata": {}
  },
  {
   "cell_type": "code",
   "execution_count": 64,
   "source": [
    "print ('Start of Video 5 Magic/Dunder')\n",
    "\n",
    "class Employee: \n",
    "\n",
    "     raise_amt = 1.04\n",
    "\n",
    "     def __init__(self, first, last, pay):\n",
    "        self.first = first\n",
    "        self.last = last\n",
    "        self.email = first + '.' + last + '@email.com'\n",
    "        self.pay = pay\n",
    "\n",
    "     \n",
    "     def fullname(self):\n",
    "          return '{} {}'.format(self.first, self.last)\n",
    "    \n",
    "     def apply_raise(self):\n",
    "        self.pay = int(self.pay * self.raise_amt)\n",
    "     @classmethod\n",
    "     def set_raise_amt(cls, amount):\n",
    "            cls.raise_amount = amount\n",
    "\n",
    "     @classmethod\n",
    "     def from_string(cls, emp_str):\n",
    "                first, last, pay = emp_str.split('-')\n",
    "                return cls(first, last, pay)\n",
    "\n",
    "     @staticmethod\n",
    "     def is_workday(day):\n",
    "        if day.weekday() == 5 or day.weekday() == 6:\n",
    "            return False\n",
    "        return True\n",
    "\n",
    "emp_1 = Employee('Corey','Schafer', 50000)\n",
    "emp_2 = Employee('Test', 'User', 60000)\n",
    "\n",
    "print(1+2)\n",
    "print('a'+'b')\n",
    "\n",
    "print(emp_1)\n"
   ],
   "outputs": [
    {
     "output_type": "stream",
     "name": "stdout",
     "text": [
      "Start of Video 5 Magic/Dunder\n",
      "3\n",
      "ab\n",
      "<__main__.Employee object at 0x7ff0a1058e20>\n"
     ]
    }
   ],
   "metadata": {}
  },
  {
   "cell_type": "code",
   "execution_count": 94,
   "source": [
    "class Employee: \n",
    "\n",
    "     raise_amt = 1.04\n",
    "\n",
    "     def __init__(self, first, last, pay):\n",
    "        self.first = first\n",
    "        self.last = last\n",
    "        self.email = first + '.' + last + '@email.com'\n",
    "        self.pay = pay\n",
    "\n",
    "     def fullname(self):\n",
    "          return '{} {}'.format(self.first, self.last)\n",
    "\n",
    "     def __repr__(self):\n",
    "         return \"Employee('{}', '{}', {})\".format(self.first, self.last, self.pay)\n",
    "     def __str__(self):\n",
    "         return '{} - {}'.format(self.fullname(), self.email)\n",
    "     def __add__(self, other):\n",
    "         return self.pay + other.pay\n",
    "     def __len__(self):\n",
    "         return len(self.fullname())\n",
    "\n",
    "\n",
    "emp_1 = Employee('Corey','Schafer', 50000)\n",
    "\n",
    "print(emp_1)\n",
    "\n",
    "print(repr(emp_1))\n",
    "print(str(emp_1))\n",
    "\n",
    "print(emp_1.__repr__())\n",
    "print(emp_1.__str__())"
   ],
   "outputs": [
    {
     "output_type": "stream",
     "name": "stdout",
     "text": [
      "Corey Schafer - Corey.Schafer@email.com\n",
      "Employee('Corey', 'Schafer', 50000)\n",
      "Corey Schafer - Corey.Schafer@email.com\n",
      "Employee('Corey', 'Schafer', 50000)\n",
      "Corey Schafer - Corey.Schafer@email.com\n"
     ]
    }
   ],
   "metadata": {}
  },
  {
   "cell_type": "code",
   "execution_count": 84,
   "source": [
    "print(1+2)\n",
    "print(int.__add__(1,2))\n",
    "print(str.__add__('a','b'))"
   ],
   "outputs": [
    {
     "output_type": "stream",
     "name": "stdout",
     "text": [
      "3\n",
      "3\n",
      "ab\n"
     ]
    }
   ],
   "metadata": {}
  },
  {
   "cell_type": "code",
   "execution_count": 97,
   "source": [
    "#def __add__(self, other):\n",
    "#         return self.pay + other.pay\n",
    "\n",
    "#def __len__(self):\n",
    "#    return len(self.fullname())\n",
    "\n",
    "print(emp_1 + emp_2)\n",
    "\n",
    "print (len('test'))\n",
    "\n",
    "print('test'.__len__())\n",
    "\n",
    "print (len(emp_1))\n",
    "\n",
    "print ('End of Video 5')"
   ],
   "outputs": [
    {
     "output_type": "stream",
     "name": "stdout",
     "text": [
      "110000\n",
      "4\n",
      "4\n",
      "13\n",
      "End of Video 5\n"
     ]
    }
   ],
   "metadata": {}
  },
  {
   "cell_type": "code",
   "execution_count": 111,
   "source": [
    "print ('Start of Video 6 - Property Decorators')\n",
    "\n",
    "class Employee: \n",
    "\n",
    "     def __init__(self, first, last):\n",
    "        self.first = first\n",
    "        self.last = last\n",
    "        #self.email = first + '.' + last + '@email.com'\n",
    "\n",
    "     def email(self):\n",
    "          return '{}.{}@email.com'.format(self.first, self.last)\n",
    "\n",
    "     def fullname(self):\n",
    "          return '{} {}'.format(self.first, self.last)\n",
    "\n",
    "emp_1 = Employee('John', 'Smith')\n",
    "\n",
    "emp_1.first = 'Jim'\n",
    "\n",
    "print(emp_1.first)\n",
    "print(emp_1.email())\n",
    "print(emp_1.fullname())\n",
    "\n",
    "print('#Testing for error#')\n",
    "print(emp_1.email)"
   ],
   "outputs": [
    {
     "output_type": "stream",
     "name": "stdout",
     "text": [
      "Start of Video 6 - Property Decorators\n",
      "Jim\n",
      "Jim.Smith@email.com\n",
      "Jim Smith\n",
      "#Testing for error#\n",
      "<bound method Employee.email of <__main__.Employee object at 0x7ff0902a0a60>>\n"
     ]
    }
   ],
   "metadata": {}
  },
  {
   "cell_type": "code",
   "execution_count": 119,
   "source": [
    "print ('Start of Video 6 - Property Decorators')\n",
    "\n",
    "class Employee: \n",
    "\n",
    "     def __init__(self, first, last):\n",
    "        self.first = first\n",
    "        self.last = last\n",
    "\n",
    "     @property\n",
    "     def email(self):\n",
    "          return '{}.{}@email.com'.format(self.first, self.last)\n",
    "\n",
    "     @property\n",
    "     def fullname(self):\n",
    "          return '{} {}'.format(self.first, self.last)\n",
    "\n",
    "     @fullname.setter\n",
    "     def fullname(self,name):\n",
    "         first, last = name.split(' ')\n",
    "         self.first = first\n",
    "         self.last = last\n",
    "     \n",
    "     @fullname.deleter\n",
    "     def fullname(self):\n",
    "         print('Delete Name!')\n",
    "         self.first = None\n",
    "         self.last = None\n",
    "\n",
    "emp_1 = Employee('John', 'Smith')\n",
    "\n",
    "print(emp_1.first)\n",
    "print(emp_1.email)\n",
    "print(emp_1.fullname)\n",
    "\n",
    "emp_1.fullname = 'Corey Schafer'\n",
    "\n",
    "print(emp_1.first)\n",
    "print(emp_1.email)\n",
    "print(emp_1.fullname)\n",
    "\n",
    "del emp_1.fullname\n",
    "\n",
    "print ('End of Video 6')\n",
    "print ('END OF ASSIGNMENT')"
   ],
   "outputs": [
    {
     "output_type": "stream",
     "name": "stdout",
     "text": [
      "Start of Video 6 - Property Decorators\n",
      "John\n",
      "John.Smith@email.com\n",
      "John Smith\n",
      "Corey\n",
      "Corey.Schafer@email.com\n",
      "Corey Schafer\n",
      "Delete Name!\n"
     ]
    }
   ],
   "metadata": {}
  }
 ],
 "metadata": {
  "orig_nbformat": 4,
  "language_info": {
   "name": "python",
   "version": "3.8.8",
   "mimetype": "text/x-python",
   "codemirror_mode": {
    "name": "ipython",
    "version": 3
   },
   "pygments_lexer": "ipython3",
   "nbconvert_exporter": "python",
   "file_extension": ".py"
  },
  "kernelspec": {
   "name": "python3",
   "display_name": "Python 3.8.8 64-bit ('base': conda)"
  },
  "interpreter": {
   "hash": "2cdd94095b038abccde5a42e2f4bb9507b5e535c2fe68e42ad5707ceffcf646b"
  }
 },
 "nbformat": 4,
 "nbformat_minor": 2
}